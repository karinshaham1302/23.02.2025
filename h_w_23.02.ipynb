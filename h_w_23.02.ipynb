{
 "cells": [
  {
   "cell_type": "code",
   "execution_count": 1,
   "id": "3378566b-c5a7-444c-a9ff-9de5cda0c97d",
   "metadata": {},
   "outputs": [
    {
     "name": "stdout",
     "output_type": "stream",
     "text": [
      "[ 0  1  2  3  4  5  6  7  8  9 10]\n"
     ]
    }
   ],
   "source": [
    "import numpy as np\n",
    "\n",
    "np_range = np.arange(0, 11)\n",
    "print(np_range)"
   ]
  },
  {
   "cell_type": "code",
   "execution_count": 3,
   "id": "7f4d2a9e-7ef8-45bb-9644-e280c218bb04",
   "metadata": {},
   "outputs": [
    {
     "name": "stdout",
     "output_type": "stream",
     "text": [
      "[0.5  0.75 1.   1.25 1.5  1.75 2.   2.25 2.5  2.75 3.   3.25 3.5  3.75\n",
      " 4.   4.25 4.5  4.75 5.  ]\n"
     ]
    }
   ],
   "source": [
    "np_ran = np.arange(0.5, 5.25, 0.25)\n",
    "print(np_ran)"
   ]
  },
  {
   "cell_type": "code",
   "execution_count": 19,
   "id": "39d7e3ee-5644-43a7-b8a9-2a905c1ba5ad",
   "metadata": {},
   "outputs": [
    {
     "name": "stdout",
     "output_type": "stream",
     "text": [
      "[0. 0. 0. 0. 0. 0. 0. 0. 0. 0.]\n"
     ]
    }
   ],
   "source": [
    "zeros_array = np.zeros(10)\n",
    "print(zeros_array)"
   ]
  },
  {
   "cell_type": "code",
   "execution_count": 17,
   "id": "97d19510-3bfc-49e0-85f1-fd7365a3ba25",
   "metadata": {},
   "outputs": [
    {
     "name": "stdout",
     "output_type": "stream",
     "text": [
      "[[0. 0. 0.]\n",
      " [0. 0. 0.]\n",
      " [0. 0. 0.]\n",
      " [0. 0. 0.]]\n"
     ]
    }
   ],
   "source": [
    "zero_mul = np.zeros((4, 3))\n",
    "print(zero_mul)"
   ]
  },
  {
   "cell_type": "code",
   "execution_count": 21,
   "id": "441af743-7b4b-4b80-9e3e-6208d97b78e4",
   "metadata": {},
   "outputs": [
    {
     "name": "stdout",
     "output_type": "stream",
     "text": [
      "[ 2  4  7  9 12]\n"
     ]
    }
   ],
   "source": [
    "lin_array = np.linspace(2, 12, 5, dtype=int)\n",
    "print(lin_array)"
   ]
  },
  {
   "cell_type": "code",
   "execution_count": 25,
   "id": "05b524ff-ef74-46dd-ba6b-790c3fa5b542",
   "metadata": {},
   "outputs": [
    {
     "name": "stdout",
     "output_type": "stream",
     "text": [
      "[ 2.   4.5  7.   9.5 12. ]\n"
     ]
    }
   ],
   "source": [
    "lin_array = np.linspace(2, 12, 5)\n",
    "print(lin_array)"
   ]
  },
  {
   "cell_type": "code",
   "execution_count": 23,
   "id": "bcc12e61-72b3-41da-b857-4039585b653a",
   "metadata": {},
   "outputs": [
    {
     "name": "stdout",
     "output_type": "stream",
     "text": [
      "[3 5 7 9]\n"
     ]
    }
   ],
   "source": [
    "lin_arr = np.linspace(3, 9, 4, dtype=int)\n",
    "print(lin_arr)"
   ]
  },
  {
   "cell_type": "code",
   "execution_count": 27,
   "id": "6709cd2f-b084-4f50-a158-226bfd391c03",
   "metadata": {},
   "outputs": [
    {
     "name": "stdout",
     "output_type": "stream",
     "text": [
      "[3. 5. 7. 9.]\n"
     ]
    }
   ],
   "source": [
    "lin_arr = np.linspace(3, 9, 4)\n",
    "print(lin_arr)"
   ]
  },
  {
   "cell_type": "code",
   "execution_count": 29,
   "id": "e153c36c-9c27-4518-86fa-1f1232915ae9",
   "metadata": {},
   "outputs": [
    {
     "name": "stdout",
     "output_type": "stream",
     "text": [
      "[[0.02092752 0.76790698 0.21124405 0.35927549]\n",
      " [0.14254552 0.55252044 0.2924782  0.86314032]]\n"
     ]
    }
   ],
   "source": [
    "random_array = np.random.rand(2, 4)  \n",
    "print(random_array)"
   ]
  },
  {
   "cell_type": "code",
   "execution_count": 31,
   "id": "331bb91e-339a-4f8a-a1dd-ad44700fb32b",
   "metadata": {},
   "outputs": [
    {
     "name": "stdout",
     "output_type": "stream",
     "text": [
      "[[11 14 20]\n",
      " [19 12 11]\n",
      " [13 15 13]]\n"
     ]
    }
   ],
   "source": [
    "random_arr = np.random.randint(10, 21, (3, 3))  \n",
    "print(random_arr)"
   ]
  },
  {
   "cell_type": "code",
   "execution_count": 33,
   "id": "a03f503b-daf5-4beb-8006-176b2bffb81d",
   "metadata": {},
   "outputs": [
    {
     "name": "stdout",
     "output_type": "stream",
     "text": [
      "[[0.47828611 0.82446712 0.38484239 0.75985668]\n",
      " [0.63624613 0.96494257 0.06361578 0.21783468]]\n",
      "[[0.47828611]\n",
      " [0.82446712]\n",
      " [0.38484239]\n",
      " [0.75985668]\n",
      " [0.63624613]\n",
      " [0.96494257]\n",
      " [0.06361578]\n",
      " [0.21783468]]\n"
     ]
    }
   ],
   "source": [
    "random_array = np.random.rand(2, 4)  \n",
    "print(random_array)\n",
    "reshaped_array = random_array.reshape(8, 1)\n",
    "print(reshaped_array)"
   ]
  },
  {
   "cell_type": "code",
   "execution_count": null,
   "id": "2b78e66f-b133-422b-bef3-aef2cf762d1a",
   "metadata": {},
   "outputs": [],
   "source": [
    "You need to pay attention when using the reshape function - \n",
    "Matching number of elements, a copy is not always created, the Order of the shape and mismatched dimensions error."
   ]
  },
  {
   "cell_type": "code",
   "execution_count": null,
   "id": "02b07d62-ac01-4da7-a84b-f3d88b134124",
   "metadata": {},
   "outputs": [],
   "source": [
    "If we generate random numbers using a fixed seed, we will always get the same sequence of random numbers in every run of the program.\n",
    "This causes every call to functions like np.random.rand() or np.random.randint() to generate the same results in every run of the code.\n",
    "\n",
    "The main advantage of using a seed is reproducibility -\n",
    "Reproducibility of results, collaboration with others, control of a random process and ability to analyze results."
   ]
  }
 ],
 "metadata": {
  "kernelspec": {
   "display_name": "Python 3 (ipykernel)",
   "language": "python",
   "name": "python3"
  },
  "language_info": {
   "codemirror_mode": {
    "name": "ipython",
    "version": 3
   },
   "file_extension": ".py",
   "mimetype": "text/x-python",
   "name": "python",
   "nbconvert_exporter": "python",
   "pygments_lexer": "ipython3",
   "version": "3.12.7"
  }
 },
 "nbformat": 4,
 "nbformat_minor": 5
}
